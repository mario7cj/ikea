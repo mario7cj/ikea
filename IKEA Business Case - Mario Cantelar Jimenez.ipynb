{
 "cells": [
  {
   "cell_type": "code",
   "execution_count": 1,
   "metadata": {
    "id": "A5uA4q0x_M7z"
   },
   "outputs": [],
   "source": [
    "import pandas as pd\n",
    "from sklearn.cluster import KMeans\n",
    "import matplotlib.pyplot as plt\n",
    "import numpy as np\n",
    "import sqldf\n",
    "import seaborn as sns\n",
    "\n",
    "from sklearn.ensemble import RandomForestClassifier\n",
    "from sklearn.model_selection import train_test_split\n",
    "from sklearn.metrics import mean_squared_error"
   ]
  },
  {
   "cell_type": "markdown",
   "metadata": {},
   "source": [
    "# Load the data"
   ]
  },
  {
   "cell_type": "markdown",
   "metadata": {},
   "source": [
    "First of all, we load the data received into a pandas dataframe"
   ]
  },
  {
   "cell_type": "code",
   "execution_count": 2,
   "metadata": {
    "id": "v_RId8wM_bPa"
   },
   "outputs": [],
   "source": [
    "df = pd.read_csv(\"ikea.csv\", delimiter=\";\")"
   ]
  },
  {
   "cell_type": "code",
   "execution_count": 3,
   "metadata": {
    "colab": {
     "base_uri": "https://localhost:8080/",
     "height": 206
    },
    "id": "DwCnIpyW_imr",
    "outputId": "c270b706-970a-4f1f-9743-58f139ce6254"
   },
   "outputs": [
    {
     "data": {
      "text/html": [
       "<div>\n",
       "<style scoped>\n",
       "    .dataframe tbody tr th:only-of-type {\n",
       "        vertical-align: middle;\n",
       "    }\n",
       "\n",
       "    .dataframe tbody tr th {\n",
       "        vertical-align: top;\n",
       "    }\n",
       "\n",
       "    .dataframe thead th {\n",
       "        text-align: right;\n",
       "    }\n",
       "</style>\n",
       "<table border=\"1\" class=\"dataframe\">\n",
       "  <thead>\n",
       "    <tr style=\"text-align: right;\">\n",
       "      <th></th>\n",
       "      <th>CustomerID</th>\n",
       "      <th>ItemID</th>\n",
       "      <th>Sex</th>\n",
       "      <th>Age</th>\n",
       "      <th>Profession</th>\n",
       "      <th>CityType</th>\n",
       "      <th>YearsInCity</th>\n",
       "      <th>HaveChildren</th>\n",
       "      <th>ItemCategory1</th>\n",
       "      <th>ItemCategory2</th>\n",
       "      <th>ItemCategory3</th>\n",
       "      <th>Amount</th>\n",
       "    </tr>\n",
       "  </thead>\n",
       "  <tbody>\n",
       "    <tr>\n",
       "      <th>0</th>\n",
       "      <td>1000001</td>\n",
       "      <td>P00069042</td>\n",
       "      <td>F</td>\n",
       "      <td>0-17</td>\n",
       "      <td>10</td>\n",
       "      <td>A</td>\n",
       "      <td>2</td>\n",
       "      <td>0.0</td>\n",
       "      <td>3</td>\n",
       "      <td>NaN</td>\n",
       "      <td>NaN</td>\n",
       "      <td>8370</td>\n",
       "    </tr>\n",
       "    <tr>\n",
       "      <th>1</th>\n",
       "      <td>1000001</td>\n",
       "      <td>P00248942</td>\n",
       "      <td>F</td>\n",
       "      <td>0-17</td>\n",
       "      <td>10</td>\n",
       "      <td>A</td>\n",
       "      <td>2</td>\n",
       "      <td>0.0</td>\n",
       "      <td>1</td>\n",
       "      <td>6.0</td>\n",
       "      <td>14.0</td>\n",
       "      <td>15200</td>\n",
       "    </tr>\n",
       "    <tr>\n",
       "      <th>2</th>\n",
       "      <td>1000001</td>\n",
       "      <td>P00087842</td>\n",
       "      <td>F</td>\n",
       "      <td>0-17</td>\n",
       "      <td>10</td>\n",
       "      <td>A</td>\n",
       "      <td>2</td>\n",
       "      <td>0.0</td>\n",
       "      <td>12</td>\n",
       "      <td>NaN</td>\n",
       "      <td>NaN</td>\n",
       "      <td>1422</td>\n",
       "    </tr>\n",
       "    <tr>\n",
       "      <th>3</th>\n",
       "      <td>1000001</td>\n",
       "      <td>P00085442</td>\n",
       "      <td>F</td>\n",
       "      <td>0-17</td>\n",
       "      <td>10</td>\n",
       "      <td>A</td>\n",
       "      <td>2</td>\n",
       "      <td>0.0</td>\n",
       "      <td>12</td>\n",
       "      <td>14.0</td>\n",
       "      <td>NaN</td>\n",
       "      <td>1057</td>\n",
       "    </tr>\n",
       "    <tr>\n",
       "      <th>4</th>\n",
       "      <td>1000002</td>\n",
       "      <td>P00285442</td>\n",
       "      <td>M</td>\n",
       "      <td>55+</td>\n",
       "      <td>16</td>\n",
       "      <td>C</td>\n",
       "      <td>4+</td>\n",
       "      <td>0.0</td>\n",
       "      <td>8</td>\n",
       "      <td>NaN</td>\n",
       "      <td>NaN</td>\n",
       "      <td>7969</td>\n",
       "    </tr>\n",
       "  </tbody>\n",
       "</table>\n",
       "</div>"
      ],
      "text/plain": [
       "   CustomerID     ItemID Sex   Age  Profession CityType YearsInCity  \\\n",
       "0     1000001  P00069042   F  0-17          10        A           2   \n",
       "1     1000001  P00248942   F  0-17          10        A           2   \n",
       "2     1000001  P00087842   F  0-17          10        A           2   \n",
       "3     1000001  P00085442   F  0-17          10        A           2   \n",
       "4     1000002  P00285442   M   55+          16        C          4+   \n",
       "\n",
       "   HaveChildren  ItemCategory1  ItemCategory2  ItemCategory3  Amount  \n",
       "0           0.0              3            NaN            NaN    8370  \n",
       "1           0.0              1            6.0           14.0   15200  \n",
       "2           0.0             12            NaN            NaN    1422  \n",
       "3           0.0             12           14.0            NaN    1057  \n",
       "4           0.0              8            NaN            NaN    7969  "
      ]
     },
     "execution_count": 3,
     "metadata": {},
     "output_type": "execute_result"
    }
   ],
   "source": [
    "df.head()"
   ]
  },
  {
   "cell_type": "markdown",
   "metadata": {
    "id": "o--qmL6Hmg7L"
   },
   "source": [
    "# Exploratory Data Analysis"
   ]
  },
  {
   "cell_type": "markdown",
   "metadata": {},
   "source": [
    "Before answering the different questions proposed, we analyze a little bit the structure of the dataset and the different columns"
   ]
  },
  {
   "cell_type": "code",
   "execution_count": 4,
   "metadata": {},
   "outputs": [
    {
     "name": "stdout",
     "output_type": "stream",
     "text": [
      "<class 'pandas.core.frame.DataFrame'>\n",
      "RangeIndex: 537577 entries, 0 to 537576\n",
      "Data columns (total 12 columns):\n",
      " #   Column         Non-Null Count   Dtype  \n",
      "---  ------         --------------   -----  \n",
      " 0   CustomerID     537577 non-null  int64  \n",
      " 1   ItemID         537577 non-null  object \n",
      " 2   Sex            537577 non-null  object \n",
      " 3   Age            537577 non-null  object \n",
      " 4   Profession     537577 non-null  int64  \n",
      " 5   CityType       537577 non-null  object \n",
      " 6   YearsInCity    537577 non-null  object \n",
      " 7   HaveChildren   517407 non-null  float64\n",
      " 8   ItemCategory1  537577 non-null  int64  \n",
      " 9   ItemCategory2  370591 non-null  float64\n",
      " 10  ItemCategory3  164278 non-null  float64\n",
      " 11  Amount         537577 non-null  int64  \n",
      "dtypes: float64(3), int64(4), object(5)\n",
      "memory usage: 49.2+ MB\n"
     ]
    }
   ],
   "source": [
    "df.info()"
   ]
  },
  {
   "cell_type": "markdown",
   "metadata": {},
   "source": [
    "## CustomerID"
   ]
  },
  {
   "cell_type": "code",
   "execution_count": 5,
   "metadata": {},
   "outputs": [
    {
     "data": {
      "text/plain": [
       "1001680    1025\n",
       "1004277     978\n",
       "1001941     898\n",
       "1001181     861\n",
       "1000889     822\n",
       "           ... \n",
       "1005608       6\n",
       "1002111       6\n",
       "1005810       6\n",
       "1004991       6\n",
       "1000708       5\n",
       "Name: CustomerID, Length: 5891, dtype: int64"
      ]
     },
     "execution_count": 5,
     "metadata": {},
     "output_type": "execute_result"
    }
   ],
   "source": [
    "#Check if customers appears more than once in the dataset\n",
    "df['CustomerID'].value_counts()"
   ]
  },
  {
   "cell_type": "markdown",
   "metadata": {},
   "source": [
    "## Item Categories"
   ]
  },
  {
   "cell_type": "markdown",
   "metadata": {},
   "source": [
    "We can see that there are null values in the item category section. We focused on the distribution of the item categories"
   ]
  },
  {
   "cell_type": "code",
   "execution_count": 6,
   "metadata": {},
   "outputs": [
    {
     "data": {
      "image/png": "[encoded data removed]",
      "text/plain": [
       "<Figure size 432x288 with 1 Axes>"
      ]
     },
     "metadata": {
      "needs_background": "light"
     },
     "output_type": "display_data"
    }
   ],
   "source": [
    "sns.countplot(x='ItemCategory1', data=df);\n",
    "plt.title('Distribution of Item Category 1');"
   ]
  },
  {
   "cell_type": "code",
   "execution_count": 7,
   "metadata": {},
   "outputs": [
    {
     "data": {
      "image/png": "[encoded data removed]",
      "text/plain": [
       "<Figure size 432x288 with 1 Axes>"
      ]
     },
     "metadata": {
      "needs_background": "light"
     },
     "output_type": "display_data"
    }
   ],
   "source": [
    "sns.countplot(x='ItemCategory2', data=df);\n",
    "plt.title('Distribution of Item Category 2');"
   ]
  },
  {
   "cell_type": "code",
   "execution_count": 8,
   "metadata": {},
   "outputs": [
    {
     "data": {
      "image/png": "[encoded data removed]",
      "text/plain": [
       "<Figure size 432x288 with 1 Axes>"
      ]
     },
     "metadata": {
      "needs_background": "light"
     },
     "output_type": "display_data"
    }
   ],
   "source": [
    "sns.countplot(x='ItemCategory3', data=df);\n",
    "plt.title('Distribution of Item Category 3');"
   ]
  },
  {
   "cell_type": "markdown",
   "metadata": {},
   "source": [
    "## City Type"
   ]
  },
  {
   "cell_type": "code",
   "execution_count": 9,
   "metadata": {},
   "outputs": [
    {
     "data": {
      "text/plain": [
       "B    226493\n",
       "C    166446\n",
       "A    144638\n",
       "Name: CityType, dtype: int64"
      ]
     },
     "execution_count": 9,
     "metadata": {},
     "output_type": "execute_result"
    }
   ],
   "source": [
    "df['CityType'].value_counts()"
   ]
  },
  {
   "cell_type": "code",
   "execution_count": 10,
   "metadata": {},
   "outputs": [
    {
     "data": {
      "image/png": "[encoded data removed]",
      "text/plain": [
       "<Figure size 432x288 with 1 Axes>"
      ]
     },
     "metadata": {
      "needs_background": "light"
     },
     "output_type": "display_data"
    }
   ],
   "source": [
    "sns.countplot(x='CityType', data=df);\n",
    "plt.title('Distribution of CityType');"
   ]
  },
  {
   "cell_type": "markdown",
   "metadata": {},
   "source": [
    "# Sex"
   ]
  },
  {
   "cell_type": "code",
   "execution_count": 11,
   "metadata": {},
   "outputs": [
    {
     "data": {
      "text/plain": [
       "M    405380\n",
       "F    132197\n",
       "Name: Sex, dtype: int64"
      ]
     },
     "execution_count": 11,
     "metadata": {},
     "output_type": "execute_result"
    }
   ],
   "source": [
    "df['Sex'].value_counts()"
   ]
  },
  {
   "cell_type": "code",
   "execution_count": 12,
   "metadata": {},
   "outputs": [
    {
     "data": {
      "image/png": "[encoded data removed]",
      "text/plain": [
       "<Figure size 432x288 with 1 Axes>"
      ]
     },
     "metadata": {
      "needs_background": "light"
     },
     "output_type": "display_data"
    }
   ],
   "source": [
    "sns.countplot(x='Sex', data=df);\n",
    "plt.title('Distribution of Sex');"
   ]
  },
  {
   "cell_type": "markdown",
   "metadata": {},
   "source": [
    "# Age"
   ]
  },
  {
   "cell_type": "code",
   "execution_count": 13,
   "metadata": {},
   "outputs": [
    {
     "data": {
      "text/plain": [
       "count     537577\n",
       "unique         7\n",
       "top        26-35\n",
       "freq      214690\n",
       "Name: Age, dtype: object"
      ]
     },
     "execution_count": 13,
     "metadata": {},
     "output_type": "execute_result"
    }
   ],
   "source": [
    "df['Age'].describe()"
   ]
  },
  {
   "cell_type": "code",
   "execution_count": 14,
   "metadata": {},
   "outputs": [
    {
     "data": {
      "text/plain": [
       "26-35    214690\n",
       "36-45    107499\n",
       "18-25     97634\n",
       "46-50     44526\n",
       "51-55     37618\n",
       "55+       20903\n",
       "0-17      14707\n",
       "Name: Age, dtype: int64"
      ]
     },
     "execution_count": 14,
     "metadata": {},
     "output_type": "execute_result"
    }
   ],
   "source": [
    "df['Age'].value_counts()"
   ]
  },
  {
   "cell_type": "markdown",
   "metadata": {},
   "source": [
    "# Profession"
   ]
  },
  {
   "cell_type": "code",
   "execution_count": 15,
   "metadata": {},
   "outputs": [
    {
     "data": {
      "text/plain": [
       "4     70862\n",
       "0     68120\n",
       "7     57806\n",
       "1     45971\n",
       "17    39090\n",
       "20    32910\n",
       "12    30423\n",
       "14    26712\n",
       "2     25845\n",
       "16    24790\n",
       "6     19822\n",
       "3     17366\n",
       "10    12623\n",
       "5     11985\n",
       "15    11812\n",
       "11    11338\n",
       "19     8352\n",
       "13     7548\n",
       "18     6525\n",
       "9      6153\n",
       "8      1524\n",
       "Name: Profession, dtype: int64"
      ]
     },
     "execution_count": 15,
     "metadata": {},
     "output_type": "execute_result"
    }
   ],
   "source": [
    "df['Profession'].value_counts()"
   ]
  },
  {
   "cell_type": "code",
   "execution_count": 16,
   "metadata": {},
   "outputs": [
    {
     "data": {
      "image/png": "[encoded data removed]",
      "text/plain": [
       "<Figure size 432x288 with 1 Axes>"
      ]
     },
     "metadata": {
      "needs_background": "light"
     },
     "output_type": "display_data"
    }
   ],
   "source": [
    "sns.countplot(x='Profession', data=df,order = df['Profession'].value_counts().index );\n",
    "plt.title('Distribution of Profession');"
   ]
  },
  {
   "cell_type": "markdown",
   "metadata": {},
   "source": [
    "## YearsInCity"
   ]
  },
  {
   "cell_type": "code",
   "execution_count": 17,
   "metadata": {},
   "outputs": [
    {
     "data": {
      "image/png": "[encoded data removed]",
      "text/plain": [
       "<Figure size 432x288 with 1 Axes>"
      ]
     },
     "metadata": {
      "needs_background": "light"
     },
     "output_type": "display_data"
    }
   ],
   "source": [
    "sns.countplot(x='YearsInCity', data=df, order = df['YearsInCity'].value_counts().index);\n",
    "plt.title('Distribution of YearsInCity');"
   ]
  },
  {
   "cell_type": "markdown",
   "metadata": {},
   "source": [
    "### HaveChildren"
   ]
  },
  {
   "cell_type": "code",
   "execution_count": 18,
   "metadata": {
    "id": "scUCqyt6Hw1r"
   },
   "outputs": [],
   "source": [
    "# For the segmentation analysis we will fill in the null values for the HaveChildren column with -1 to be able to identify them\n",
    "df['HaveChildren'].fillna(-1, inplace=True)"
   ]
  },
  {
   "cell_type": "code",
   "execution_count": 19,
   "metadata": {},
   "outputs": [
    {
     "data": {
      "image/png": "[encoded data removed]",
      "text/plain": [
       "<Figure size 432x288 with 1 Axes>"
      ]
     },
     "metadata": {
      "needs_background": "light"
     },
     "output_type": "display_data"
    }
   ],
   "source": [
    "sns.countplot(x='HaveChildren', data=df, order = df['HaveChildren'].value_counts().index);\n",
    "plt.title('Distribution of HaveChildren column');"
   ]
  },
  {
   "cell_type": "markdown",
   "metadata": {},
   "source": [
    "# Question 1"
   ]
  },
  {
   "cell_type": "markdown",
   "metadata": {},
   "source": [
    "As we want to do a segment analysis, we are going to focus in understand what kind of people buys the most popular item categories."
   ]
  },
  {
   "cell_type": "code",
   "execution_count": 20,
   "metadata": {},
   "outputs": [
    {
     "data": {
      "image/png": "[encoded data removed]",
      "text/plain": [
       "<Figure size 432x288 with 1 Axes>"
      ]
     },
     "metadata": {
      "needs_background": "light"
     },
     "output_type": "display_data"
    }
   ],
   "source": [
    "sns.countplot(x='ItemCategory1', data=df);\n",
    "plt.title('Distribution of Item Category 1');"
   ]
  },
  {
   "cell_type": "markdown",
   "metadata": {},
   "source": [
    "As we can see, there are 2 main categories that stands up above the rest. The Categories 1, 5 and 8. So, to keep the analysis readable, we will focus on understanding what types of people are the main buyers of these 3 categories."
   ]
  },
  {
   "cell_type": "code",
   "execution_count": 21,
   "metadata": {},
   "outputs": [],
   "source": [
    "#Create a dataframe per each of the categories to analyze\n",
    "df_item_cat1 = df[df['ItemCategory1'] == 1]\n",
    "df_item_cat5 = df[df['ItemCategory1'] == 5]\n",
    "df_item_cat8 = df[df['ItemCategory1'] == 8]"
   ]
  },
  {
   "cell_type": "markdown",
   "metadata": {},
   "source": [
    "### Compare by Sex"
   ]
  },
  {
   "cell_type": "code",
   "execution_count": 22,
   "metadata": {},
   "outputs": [
    {
     "data": {
      "image/png": "[encoded data removed]",
      "text/plain": [
       "<Figure size 432x288 with 3 Axes>"
      ]
     },
     "metadata": {
      "needs_background": "light"
     },
     "output_type": "display_data"
    }
   ],
   "source": [
    "fig, ax = plt.subplots(1, 3, sharey = True)\n",
    "ax1 = sns.countplot(x='Sex', data=df_item_cat1, ax=ax[0],order = df_item_cat1['Sex'].value_counts().index);\n",
    "ax[0].set_title(\"Item Category 1\")\n",
    "ax2 = sns.countplot(x='Sex', data=df_item_cat5,ax=ax[1]);\n",
    "ax[1].set_title(\"Item Category 5\")\n",
    "ax3 = sns.countplot(x='Sex', data=df_item_cat8, ax=ax[2]);\n",
    "ax[2].set_title(\"Item Category 8\")\n",
    "plt.tight_layout()\n"
   ]
  },
  {
   "cell_type": "markdown",
   "metadata": {},
   "source": [
    "We can see that the main buyers are always Male (because we have more data from men than from female), and we cannot see any specific product that is focused on females."
   ]
  },
  {
   "cell_type": "markdown",
   "metadata": {},
   "source": [
    "### Compare by Age"
   ]
  },
  {
   "cell_type": "code",
   "execution_count": 23,
   "metadata": {},
   "outputs": [
    {
     "data": {
      "image/png": "[encoded data removed]",
      "text/plain": [
       "<Figure size 432x288 with 3 Axes>"
      ]
     },
     "metadata": {
      "needs_background": "light"
     },
     "output_type": "display_data"
    }
   ],
   "source": [
    "fig, ax = plt.subplots(3, 1, sharex=True)\n",
    "ax1 = sns.countplot(x='Age', data=df_item_cat1, ax=ax[0]);\n",
    "ax[0].set_title(\"Item Category 1\")\n",
    "ax2 = sns.countplot(x='Age', data=df_item_cat5,ax=ax[1]);\n",
    "ax[1].set_title(\"Item Category 5\")\n",
    "ax3 = sns.countplot(x='Age', data=df_item_cat8, ax=ax[2]);\n",
    "ax[2].set_title(\"Item Category 8\")\n",
    "plt.tight_layout()"
   ]
  },
  {
   "cell_type": "markdown",
   "metadata": {},
   "source": [
    "Here we can grab some interesting insights. For the Categoris 1 and 8, the main age range is 26-35, while the Category 5 is more likley to be bought by 55+ people."
   ]
  },
  {
   "cell_type": "markdown",
   "metadata": {},
   "source": [
    "### Compare by Profession"
   ]
  },
  {
   "cell_type": "code",
   "execution_count": 24,
   "metadata": {},
   "outputs": [
    {
     "data": {
      "image/png": "[encoded data removed]",
      "text/plain": [
       "<Figure size 432x288 with 3 Axes>"
      ]
     },
     "metadata": {
      "needs_background": "light"
     },
     "output_type": "display_data"
    }
   ],
   "source": [
    "fig, ax = plt.subplots(3, 1, sharex=True)\n",
    "ax1 = sns.countplot(x='Profession', data=df_item_cat1, ax=ax[0]);\n",
    "ax[0].set_title(\"Item Category 1 by Profession\")\n",
    "ax2 = sns.countplot(x='Profession', data=df_item_cat5,ax=ax[1]);\n",
    "ax[1].set_title(\"Item Category 5 by Profession\")\n",
    "ax3 = sns.countplot(x='Profession', data=df_item_cat8, ax=ax[2]);\n",
    "ax[2].set_title(\"Item Category 8 by Profession\")\n",
    "plt.tight_layout()"
   ]
  },
  {
   "cell_type": "markdown",
   "metadata": {},
   "source": [
    "### Compare by Years in City"
   ]
  },
  {
   "cell_type": "code",
   "execution_count": 25,
   "metadata": {},
   "outputs": [
    {
     "data": {
      "image/png": "[encoded data removed]",
      "text/plain": [
       "<Figure size 432x288 with 3 Axes>"
      ]
     },
     "metadata": {
      "needs_background": "light"
     },
     "output_type": "display_data"
    }
   ],
   "source": [
    "fig, ax = plt.subplots(3, 1, sharex=True)\n",
    "ax1 = sns.countplot(x='YearsInCity', data=df_item_cat1, ax=ax[0]);\n",
    "ax[0].set_title(\"Item Category 1 by YearsInCity\")\n",
    "ax2 = sns.countplot(x='YearsInCity', data=df_item_cat5,ax=ax[1]);\n",
    "ax[1].set_title(\"Item Category 5 by YearsInCity\")\n",
    "ax3 = sns.countplot(x='YearsInCity', data=df_item_cat8, ax=ax[2]);\n",
    "ax[2].set_title(\"Item Category 8 by YearsInCity\")\n",
    "plt.tight_layout()"
   ]
  },
  {
   "cell_type": "markdown",
   "metadata": {},
   "source": [
    "We can see that depending the category, there is signigicant changes in the years in the city variable, so this will allows us to make better distinction in our segements."
   ]
  },
  {
   "cell_type": "markdown",
   "metadata": {},
   "source": [
    "### Compare by CityType"
   ]
  },
  {
   "cell_type": "code",
   "execution_count": 26,
   "metadata": {},
   "outputs": [
    {
     "data": {
      "image/png": "[encoded data removed]",
      "text/plain": [
       "<Figure size 432x288 with 3 Axes>"
      ]
     },
     "metadata": {
      "needs_background": "light"
     },
     "output_type": "display_data"
    }
   ],
   "source": [
    "fig, ax = plt.subplots(3, 1, sharex=True)\n",
    "ax1 = sns.countplot(x='CityType', data=df_item_cat1, ax=ax[0]);\n",
    "ax[0].set_title(\"Item Category 1 by CityType\")\n",
    "ax2 = sns.countplot(x='CityType', data=df_item_cat5,ax=ax[1]);\n",
    "ax[1].set_title(\"Item Category 5 by CityType\")\n",
    "ax3 = sns.countplot(x='CityType', data=df_item_cat8, ax=ax[2]);\n",
    "ax[2].set_title(\"Item Category 8 by CityType\")\n",
    "plt.tight_layout()"
   ]
  },
  {
   "cell_type": "markdown",
   "metadata": {},
   "source": [
    "Again, we can see that depending the category, there is signigicant changes in the city type variable too, so this will allows us to make better distinction in our segements."
   ]
  },
  {
   "cell_type": "markdown",
   "metadata": {},
   "source": [
    "### Compare by HaveChildren Column"
   ]
  },
  {
   "cell_type": "code",
   "execution_count": 27,
   "metadata": {},
   "outputs": [
    {
     "data": {
      "image/png": "[encoded data removed]",
      "text/plain": [
       "<Figure size 432x288 with 3 Axes>"
      ]
     },
     "metadata": {
      "needs_background": "light"
     },
     "output_type": "display_data"
    }
   ],
   "source": [
    "fig, ax = plt.subplots(1, 3, sharey = True)\n",
    "ax1 = sns.countplot(x='HaveChildren', data=df_item_cat1, ax=ax[0]);\n",
    "ax[0].set_title(\"Item Category 1\")\n",
    "ax2 = sns.countplot(x='HaveChildren', data=df_item_cat5,ax=ax[1]);\n",
    "ax[1].set_title(\"Item Category 5\")\n",
    "ax3 = sns.countplot(x='HaveChildren', data=df_item_cat8, ax=ax[2]);\n",
    "ax[2].set_title(\"Item Category 8\")\n",
    "plt.tight_layout()"
   ]
  },
  {
   "cell_type": "markdown",
   "metadata": {},
   "source": [
    "We can see that the there maybe the only one category (the 8) is the one that having children cound have an impact on."
   ]
  },
  {
   "cell_type": "markdown",
   "metadata": {},
   "source": [
    "### Segmentation proposed and insights"
   ]
  },
  {
   "cell_type": "markdown",
   "metadata": {},
   "source": [
    "We identify the user personas depending on the item category that we want to focus, so for the 3 main categories analyzed, we can segment the users like this:\n",
    "\n",
    "**For item category 1:**\n",
    "- Users that live in a City type A and just arrive to the city (YearsInCity = 0)\n",
    "- Working in Profession 4, 0 or 7\n",
    "- With age between 26-35\n",
    "\n",
    "**For item category 5:**\n",
    "- Users that live in a City type B and been living there for 4+ years\n",
    "- Working in Profession 4, 0 or 7\n",
    "- With age > 55 years\n",
    "\n",
    "**For item category 8:**\n",
    "- Users that live in a City type B and been living there for 1 year\n",
    "- Working in Profession 4, 0, 7 or 1\n",
    "- With age between 26-35\n"
   ]
  },
  {
   "cell_type": "markdown",
   "metadata": {},
   "source": [
    "We focused on these categories that are the biggest ones, so ithey will be more options to target the users and increase the sales of them. If we want to tackle a specific category we should do a segementation analysis following the same approach that we did here to understan what type of users we should focus on."
   ]
  },
  {
   "cell_type": "markdown",
   "metadata": {},
   "source": [
    "As we want to do a segmentation analysis at customer level, we need to transform our dataset from customer-article level to a customer level, so we do not have duplicate customers"
   ]
  },
  {
   "cell_type": "markdown",
   "metadata": {},
   "source": [
    "# Question 2"
   ]
  },
  {
   "cell_type": "markdown",
   "metadata": {},
   "source": [
    "To improve the segmentation analysis I would like to have the next data:\n",
    "- **Price of the item:** Having the price of the item will help us to understand the revenue of an user and we could create segments according to the money they spend on IKEA. This way we could do specific actions for those who spend more money.\n",
    "- **Number of products seen and not bought:** This will help us to check the conversion rate and see what articles works better than others.\n",
    "- **Lifetime Value of the user:** This can help us identify the segments more valuable to us so we can decide what kind of actions we should do depending this variable.\n",
    "- **Real name of the categories:** This could help us to dientify possible connection between the categories (For example, a person that just arrives to the city may need articles for the whole house, bedroom, kitchen... etc)."
   ]
  },
  {
   "cell_type": "markdown",
   "metadata": {},
   "source": [
    "# Question 3"
   ]
  },
  {
   "cell_type": "markdown",
   "metadata": {},
   "source": [
    "According to the segmentation proposed in question 1, we reccomend to focus on the item category 5, as it is the most popular. For that, the segment to focus on is:\n",
    "\n",
    "- Users that live in a City type B and been living there for 4+ years\n",
    "- Working in Profession 4, 0 or 7\n",
    "- With age > 55 years"
   ]
  },
  {
   "cell_type": "markdown",
   "metadata": {
    "id": "_GXa1tkimYEB"
   },
   "source": [
    "# Question 4"
   ]
  },
  {
   "cell_type": "markdown",
   "metadata": {},
   "source": [
    "We want to visualize what fields are more likely to predict the “HaveChildren” column. For that we will train a Random Forest and use its feauture importance function to check the weight of the different variables"
   ]
  },
  {
   "cell_type": "markdown",
   "metadata": {},
   "source": [
    "First, we prepare the dataframe with data to train the model, and also create a dataframe with the missing values to predict later."
   ]
  },
  {
   "cell_type": "code",
   "execution_count": 28,
   "metadata": {},
   "outputs": [
    {
     "data": {
      "text/plain": [
       "26    214690\n",
       "36    107499\n",
       "18     97634\n",
       "46     44526\n",
       "51     37618\n",
       "55     20903\n",
       "0      14707\n",
       "Name: Age, dtype: int64"
      ]
     },
     "execution_count": 28,
     "metadata": {},
     "output_type": "execute_result"
    }
   ],
   "source": [
    "# replace the categories of the Age column with numeric values so that we can use this in the model\n",
    "df['Age'].replace({'0-17':0, '18-25':18, '26-35':26, '36-45':36, '46-50':46, '51-55':51, '55+':55}, inplace=True)\n",
    "df['Age'].value_counts()"
   ]
  },
  {
   "cell_type": "code",
   "execution_count": 29,
   "metadata": {},
   "outputs": [],
   "source": [
    "# replace the +4 in the YearsInCity to leave it as 4 only so that we can use this as the category for the model\n",
    "df['YearsInCity'].replace('4+', 4, inplace=True)\n",
    "df['YearsInCity'] = df['YearsInCity'].astype(int)"
   ]
  },
  {
   "cell_type": "code",
   "execution_count": 30,
   "metadata": {},
   "outputs": [],
   "source": [
    "# remove the IDs as they are not really interesting for the clustering model to create the segmentation analysis\n",
    "df.drop(['CustomerID', 'ItemID'], axis=1, inplace=True)"
   ]
  },
  {
   "cell_type": "code",
   "execution_count": 31,
   "metadata": {},
   "outputs": [],
   "source": [
    "# Fill in blanks for the different item categories with zeros and make them int type\n",
    "df['ItemCategory1'].fillna(0, inplace=True)\n",
    "df['ItemCategory1'] = df['ItemCategory1'].astype(int)\n",
    "\n",
    "df['ItemCategory2'].fillna(0, inplace=True)\n",
    "df['ItemCategory2'] = df['ItemCategory2'].astype(int)\n",
    "\n",
    "df['ItemCategory3'].fillna(0, inplace=True)\n",
    "df['ItemCategory3'] = df['ItemCategory3'].astype(int)"
   ]
  },
  {
   "cell_type": "code",
   "execution_count": 32,
   "metadata": {},
   "outputs": [],
   "source": [
    "#Prepare both dataframes\n",
    "df_children = df[df['HaveChildren']!= -1]\n",
    "df_test = df[df['HaveChildren'] == -1]"
   ]
  },
  {
   "cell_type": "code",
   "execution_count": 33,
   "metadata": {
    "id": "IzNDSLL9UHNv"
   },
   "outputs": [],
   "source": [
    "#We split into X (features to feed the model) and y (variable to predict)\n",
    "X = df_children.loc[:,df_children.columns != 'HaveChildren']\n",
    "y = df_children['HaveChildren']"
   ]
  },
  {
   "cell_type": "markdown",
   "metadata": {},
   "source": [
    "We need to change categorical variables (CityType) into dummy/indicator variables. in order to be able to introduce it in the model. We also change Profession to one hot encoding to avoid create ficticious distance between professions  as the distance between all professions should be the same."
   ]
  },
  {
   "cell_type": "code",
   "execution_count": 34,
   "metadata": {},
   "outputs": [
    {
     "data": {
      "text/html": [
       "<div>\n",
       "<style scoped>\n",
       "    .dataframe tbody tr th:only-of-type {\n",
       "        vertical-align: middle;\n",
       "    }\n",
       "\n",
       "    .dataframe tbody tr th {\n",
       "        vertical-align: top;\n",
       "    }\n",
       "\n",
       "    .dataframe thead th {\n",
       "        text-align: right;\n",
       "    }\n",
       "</style>\n",
       "<table border=\"1\" class=\"dataframe\">\n",
       "  <thead>\n",
       "    <tr style=\"text-align: right;\">\n",
       "      <th></th>\n",
       "      <th>Age</th>\n",
       "      <th>YearsInCity</th>\n",
       "      <th>ItemCategory1</th>\n",
       "      <th>ItemCategory2</th>\n",
       "      <th>ItemCategory3</th>\n",
       "      <th>Amount</th>\n",
       "      <th>CityType_A</th>\n",
       "      <th>CityType_B</th>\n",
       "      <th>CityType_C</th>\n",
       "      <th>Profession_0</th>\n",
       "      <th>...</th>\n",
       "      <th>Profession_13</th>\n",
       "      <th>Profession_14</th>\n",
       "      <th>Profession_15</th>\n",
       "      <th>Profession_16</th>\n",
       "      <th>Profession_17</th>\n",
       "      <th>Profession_18</th>\n",
       "      <th>Profession_19</th>\n",
       "      <th>Profession_20</th>\n",
       "      <th>Sex_F</th>\n",
       "      <th>Sex_M</th>\n",
       "    </tr>\n",
       "  </thead>\n",
       "  <tbody>\n",
       "    <tr>\n",
       "      <th>0</th>\n",
       "      <td>0</td>\n",
       "      <td>2</td>\n",
       "      <td>3</td>\n",
       "      <td>0</td>\n",
       "      <td>0</td>\n",
       "      <td>8370</td>\n",
       "      <td>1</td>\n",
       "      <td>0</td>\n",
       "      <td>0</td>\n",
       "      <td>0</td>\n",
       "      <td>...</td>\n",
       "      <td>0</td>\n",
       "      <td>0</td>\n",
       "      <td>0</td>\n",
       "      <td>0</td>\n",
       "      <td>0</td>\n",
       "      <td>0</td>\n",
       "      <td>0</td>\n",
       "      <td>0</td>\n",
       "      <td>1</td>\n",
       "      <td>0</td>\n",
       "    </tr>\n",
       "    <tr>\n",
       "      <th>1</th>\n",
       "      <td>0</td>\n",
       "      <td>2</td>\n",
       "      <td>1</td>\n",
       "      <td>6</td>\n",
       "      <td>14</td>\n",
       "      <td>15200</td>\n",
       "      <td>1</td>\n",
       "      <td>0</td>\n",
       "      <td>0</td>\n",
       "      <td>0</td>\n",
       "      <td>...</td>\n",
       "      <td>0</td>\n",
       "      <td>0</td>\n",
       "      <td>0</td>\n",
       "      <td>0</td>\n",
       "      <td>0</td>\n",
       "      <td>0</td>\n",
       "      <td>0</td>\n",
       "      <td>0</td>\n",
       "      <td>1</td>\n",
       "      <td>0</td>\n",
       "    </tr>\n",
       "    <tr>\n",
       "      <th>2</th>\n",
       "      <td>0</td>\n",
       "      <td>2</td>\n",
       "      <td>12</td>\n",
       "      <td>0</td>\n",
       "      <td>0</td>\n",
       "      <td>1422</td>\n",
       "      <td>1</td>\n",
       "      <td>0</td>\n",
       "      <td>0</td>\n",
       "      <td>0</td>\n",
       "      <td>...</td>\n",
       "      <td>0</td>\n",
       "      <td>0</td>\n",
       "      <td>0</td>\n",
       "      <td>0</td>\n",
       "      <td>0</td>\n",
       "      <td>0</td>\n",
       "      <td>0</td>\n",
       "      <td>0</td>\n",
       "      <td>1</td>\n",
       "      <td>0</td>\n",
       "    </tr>\n",
       "    <tr>\n",
       "      <th>3</th>\n",
       "      <td>0</td>\n",
       "      <td>2</td>\n",
       "      <td>12</td>\n",
       "      <td>14</td>\n",
       "      <td>0</td>\n",
       "      <td>1057</td>\n",
       "      <td>1</td>\n",
       "      <td>0</td>\n",
       "      <td>0</td>\n",
       "      <td>0</td>\n",
       "      <td>...</td>\n",
       "      <td>0</td>\n",
       "      <td>0</td>\n",
       "      <td>0</td>\n",
       "      <td>0</td>\n",
       "      <td>0</td>\n",
       "      <td>0</td>\n",
       "      <td>0</td>\n",
       "      <td>0</td>\n",
       "      <td>1</td>\n",
       "      <td>0</td>\n",
       "    </tr>\n",
       "    <tr>\n",
       "      <th>4</th>\n",
       "      <td>55</td>\n",
       "      <td>4</td>\n",
       "      <td>8</td>\n",
       "      <td>0</td>\n",
       "      <td>0</td>\n",
       "      <td>7969</td>\n",
       "      <td>0</td>\n",
       "      <td>0</td>\n",
       "      <td>1</td>\n",
       "      <td>0</td>\n",
       "      <td>...</td>\n",
       "      <td>0</td>\n",
       "      <td>0</td>\n",
       "      <td>0</td>\n",
       "      <td>1</td>\n",
       "      <td>0</td>\n",
       "      <td>0</td>\n",
       "      <td>0</td>\n",
       "      <td>0</td>\n",
       "      <td>0</td>\n",
       "      <td>1</td>\n",
       "    </tr>\n",
       "    <tr>\n",
       "      <th>...</th>\n",
       "      <td>...</td>\n",
       "      <td>...</td>\n",
       "      <td>...</td>\n",
       "      <td>...</td>\n",
       "      <td>...</td>\n",
       "      <td>...</td>\n",
       "      <td>...</td>\n",
       "      <td>...</td>\n",
       "      <td>...</td>\n",
       "      <td>...</td>\n",
       "      <td>...</td>\n",
       "      <td>...</td>\n",
       "      <td>...</td>\n",
       "      <td>...</td>\n",
       "      <td>...</td>\n",
       "      <td>...</td>\n",
       "      <td>...</td>\n",
       "      <td>...</td>\n",
       "      <td>...</td>\n",
       "      <td>...</td>\n",
       "      <td>...</td>\n",
       "    </tr>\n",
       "    <tr>\n",
       "      <th>537572</th>\n",
       "      <td>36</td>\n",
       "      <td>1</td>\n",
       "      <td>1</td>\n",
       "      <td>2</td>\n",
       "      <td>0</td>\n",
       "      <td>11664</td>\n",
       "      <td>0</td>\n",
       "      <td>0</td>\n",
       "      <td>1</td>\n",
       "      <td>0</td>\n",
       "      <td>...</td>\n",
       "      <td>0</td>\n",
       "      <td>0</td>\n",
       "      <td>0</td>\n",
       "      <td>1</td>\n",
       "      <td>0</td>\n",
       "      <td>0</td>\n",
       "      <td>0</td>\n",
       "      <td>0</td>\n",
       "      <td>0</td>\n",
       "      <td>1</td>\n",
       "    </tr>\n",
       "    <tr>\n",
       "      <th>537573</th>\n",
       "      <td>36</td>\n",
       "      <td>1</td>\n",
       "      <td>1</td>\n",
       "      <td>15</td>\n",
       "      <td>16</td>\n",
       "      <td>19196</td>\n",
       "      <td>0</td>\n",
       "      <td>0</td>\n",
       "      <td>1</td>\n",
       "      <td>0</td>\n",
       "      <td>...</td>\n",
       "      <td>0</td>\n",
       "      <td>0</td>\n",
       "      <td>0</td>\n",
       "      <td>1</td>\n",
       "      <td>0</td>\n",
       "      <td>0</td>\n",
       "      <td>0</td>\n",
       "      <td>0</td>\n",
       "      <td>0</td>\n",
       "      <td>1</td>\n",
       "    </tr>\n",
       "    <tr>\n",
       "      <th>537574</th>\n",
       "      <td>36</td>\n",
       "      <td>1</td>\n",
       "      <td>8</td>\n",
       "      <td>15</td>\n",
       "      <td>0</td>\n",
       "      <td>8043</td>\n",
       "      <td>0</td>\n",
       "      <td>0</td>\n",
       "      <td>1</td>\n",
       "      <td>0</td>\n",
       "      <td>...</td>\n",
       "      <td>0</td>\n",
       "      <td>0</td>\n",
       "      <td>0</td>\n",
       "      <td>1</td>\n",
       "      <td>0</td>\n",
       "      <td>0</td>\n",
       "      <td>0</td>\n",
       "      <td>0</td>\n",
       "      <td>0</td>\n",
       "      <td>1</td>\n",
       "    </tr>\n",
       "    <tr>\n",
       "      <th>537575</th>\n",
       "      <td>36</td>\n",
       "      <td>1</td>\n",
       "      <td>5</td>\n",
       "      <td>0</td>\n",
       "      <td>0</td>\n",
       "      <td>7172</td>\n",
       "      <td>0</td>\n",
       "      <td>0</td>\n",
       "      <td>1</td>\n",
       "      <td>0</td>\n",
       "      <td>...</td>\n",
       "      <td>0</td>\n",
       "      <td>0</td>\n",
       "      <td>0</td>\n",
       "      <td>1</td>\n",
       "      <td>0</td>\n",
       "      <td>0</td>\n",
       "      <td>0</td>\n",
       "      <td>0</td>\n",
       "      <td>0</td>\n",
       "      <td>1</td>\n",
       "    </tr>\n",
       "    <tr>\n",
       "      <th>537576</th>\n",
       "      <td>36</td>\n",
       "      <td>1</td>\n",
       "      <td>5</td>\n",
       "      <td>8</td>\n",
       "      <td>0</td>\n",
       "      <td>6875</td>\n",
       "      <td>0</td>\n",
       "      <td>0</td>\n",
       "      <td>1</td>\n",
       "      <td>0</td>\n",
       "      <td>...</td>\n",
       "      <td>0</td>\n",
       "      <td>0</td>\n",
       "      <td>0</td>\n",
       "      <td>1</td>\n",
       "      <td>0</td>\n",
       "      <td>0</td>\n",
       "      <td>0</td>\n",
       "      <td>0</td>\n",
       "      <td>0</td>\n",
       "      <td>1</td>\n",
       "    </tr>\n",
       "  </tbody>\n",
       "</table>\n",
       "<p>517407 rows × 32 columns</p>\n",
       "</div>"
      ],
      "text/plain": [
       "        Age  YearsInCity  ItemCategory1  ItemCategory2  ItemCategory3  Amount  \\\n",
       "0         0            2              3              0              0    8370   \n",
       "1         0            2              1              6             14   15200   \n",
       "2         0            2             12              0              0    1422   \n",
       "3         0            2             12             14              0    1057   \n",
       "4        55            4              8              0              0    7969   \n",
       "...     ...          ...            ...            ...            ...     ...   \n",
       "537572   36            1              1              2              0   11664   \n",
       "537573   36            1              1             15             16   19196   \n",
       "537574   36            1              8             15              0    8043   \n",
       "537575   36            1              5              0              0    7172   \n",
       "537576   36            1              5              8              0    6875   \n",
       "\n",
       "        CityType_A  CityType_B  CityType_C  Profession_0  ...  Profession_13  \\\n",
       "0                1           0           0             0  ...              0   \n",
       "1                1           0           0             0  ...              0   \n",
       "2                1           0           0             0  ...              0   \n",
       "3                1           0           0             0  ...              0   \n",
       "4                0           0           1             0  ...              0   \n",
       "...            ...         ...         ...           ...  ...            ...   \n",
       "537572           0           0           1             0  ...              0   \n",
       "537573           0           0           1             0  ...              0   \n",
       "537574           0           0           1             0  ...              0   \n",
       "537575           0           0           1             0  ...              0   \n",
       "537576           0           0           1             0  ...              0   \n",
       "\n",
       "        Profession_14  Profession_15  Profession_16  Profession_17  \\\n",
       "0                   0              0              0              0   \n",
       "1                   0              0              0              0   \n",
       "2                   0              0              0              0   \n",
       "3                   0              0              0              0   \n",
       "4                   0              0              1              0   \n",
       "...               ...            ...            ...            ...   \n",
       "537572              0              0              1              0   \n",
       "537573              0              0              1              0   \n",
       "537574              0              0              1              0   \n",
       "537575              0              0              1              0   \n",
       "537576              0              0              1              0   \n",
       "\n",
       "        Profession_18  Profession_19  Profession_20  Sex_F  Sex_M  \n",
       "0                   0              0              0      1      0  \n",
       "1                   0              0              0      1      0  \n",
       "2                   0              0              0      1      0  \n",
       "3                   0              0              0      1      0  \n",
       "4                   0              0              0      0      1  \n",
       "...               ...            ...            ...    ...    ...  \n",
       "537572              0              0              0      0      1  \n",
       "537573              0              0              0      0      1  \n",
       "537574              0              0              0      0      1  \n",
       "537575              0              0              0      0      1  \n",
       "537576              0              0              0      0      1  \n",
       "\n",
       "[517407 rows x 32 columns]"
      ]
     },
     "execution_count": 34,
     "metadata": {},
     "output_type": "execute_result"
    }
   ],
   "source": [
    "#Convert categorical variable into dummy/indicator variables.\n",
    "X = pd.get_dummies(X,columns=['CityType','Profession','Sex'])\n",
    "X"
   ]
  },
  {
   "cell_type": "markdown",
   "metadata": {},
   "source": [
    "Next step is splitting the dataframes into train and validation"
   ]
  },
  {
   "cell_type": "code",
   "execution_count": 35,
   "metadata": {},
   "outputs": [],
   "source": [
    "X_train, X_validation, y_train, y_validation  = train_test_split(X, y, test_size=0.33, random_state=42)"
   ]
  },
  {
   "cell_type": "code",
   "execution_count": 36,
   "metadata": {
    "id": "dHbyy7tFRopq"
   },
   "outputs": [],
   "source": [
    "# In order to identify which of those the missing the information of the children, we use a classifier model\n",
    "rf = RandomForestClassifier()\n",
    "rf.fit(X_train, y_train)\n",
    "predictions_rf = rf.predict(X_validation)"
   ]
  },
  {
   "cell_type": "markdown",
   "metadata": {},
   "source": [
    "We check the Root Mean Square Error to see how good is our prediction"
   ]
  },
  {
   "cell_type": "code",
   "execution_count": 37,
   "metadata": {},
   "outputs": [
    {
     "name": "stdout",
     "output_type": "stream",
     "text": [
      "The error is 0.4625796272686771\n"
     ]
    }
   ],
   "source": [
    "# Use scikit-learn to calculate the RMSE\n",
    "rmse = mean_squared_error(y_validation, predictions_rf, squared=False)\n",
    "print('The error is {}'.format(rmse))\n"
   ]
  },
  {
   "cell_type": "markdown",
   "metadata": {},
   "source": [
    "In a really general term, we consider that <0.5 is a valid error so we accept the results"
   ]
  },
  {
   "cell_type": "markdown",
   "metadata": {},
   "source": [
    "Now we check the feature importance, and for easy comparision we paint the results in graph, ordered from the feature that has the biggest weight to the one that has the smallest."
   ]
  },
  {
   "cell_type": "code",
   "execution_count": 38,
   "metadata": {},
   "outputs": [
    {
     "data": {
      "text/plain": [
       "Text(0.5, 0, 'Random Forest Feature Importance')"
      ]
     },
     "execution_count": 38,
     "metadata": {},
     "output_type": "execute_result"
    },
    {
     "data": {
      "image/png": "[encoded data removed]",
      "text/plain": [
       "<Figure size 864x576 with 1 Axes>"
      ]
     },
     "metadata": {
      "needs_background": "light"
     },
     "output_type": "display_data"
    }
   ],
   "source": [
    "plt.rcParams.update({'figure.figsize': (12.0, 8.0)})\n",
    "plt.rcParams.update({'font.size': 14})\n",
    "sorted_idx = rf.feature_importances_.argsort()\n",
    "plt.barh(X.columns[sorted_idx], rf.feature_importances_[sorted_idx])\n",
    "plt.xlabel(\"Random Forest Feature Importance\")"
   ]
  },
  {
   "cell_type": "markdown",
   "metadata": {},
   "source": [
    "We can see that the variable with a biggest impact is the amount of time checking an article, followed by the age and the amount of years that they are in the city. It is also possible that the item category 2 contains child/family related products as is the item category with the most weight"
   ]
  }
 ],
 "metadata": {
  "colab": {
   "name": "Untitled7.ipynb",
   "provenance": []
  },
  "kernelspec": {
   "display_name": "Python 3 (ipykernel)",
   "language": "python",
   "name": "python3"
  },
  "language_info": {
   "codemirror_mode": {
    "name": "ipython",
    "version": 3
   },
   "file_extension": ".py",
   "mimetype": "text/x-python",
   "name": "python",
   "nbconvert_exporter": "python",
   "pygments_lexer": "ipython3",
   "version": "3.8.9"
  }
 },
 "nbformat": 4,
 "nbformat_minor": 1
}
